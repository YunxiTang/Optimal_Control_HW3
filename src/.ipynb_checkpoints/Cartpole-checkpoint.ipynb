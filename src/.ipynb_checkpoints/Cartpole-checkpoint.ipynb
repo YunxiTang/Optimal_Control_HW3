{
 "cells": [
  {
   "cell_type": "code",
   "execution_count": 68,
   "metadata": {},
   "outputs": [
    {
     "name": "stderr",
     "output_type": "stream",
     "text": [
      "\u001b[32m\u001b[1m Activating\u001b[22m\u001b[39m environment at `~/Classes/OptimalControl/hw3_solutions/Project.toml`\n"
     ]
    },
    {
     "data": {
      "text/plain": [
       "solve_qp! (generic function with 2 methods)"
      ]
     },
     "execution_count": 68,
     "metadata": {},
     "output_type": "execute_result"
    }
   ],
   "source": [
    "import Pkg; Pkg.activate(joinpath(@__DIR__,\"..\")); \n",
    "using ForwardDiff\n",
    "using Test\n",
    "using RobotZoo\n",
    "using RobotDynamics\n",
    "using LinearAlgebra\n",
    "using StaticArrays\n",
    "using SparseArrays\n",
    "using BlockArrays\n",
    "\n",
    "include(\"../src/nlp.jl\")\n",
    "include(\"../src/qp.jl\")\n",
    "include(\"../src/sqp.jl\")"
   ]
  },
  {
   "cell_type": "code",
   "execution_count": 69,
   "metadata": {},
   "outputs": [
    {
     "name": "stdout",
     "output_type": "stream",
     "text": [
      "search: \u001b[0m\u001b[1mN\u001b[22m\u001b[0m\u001b[1mL\u001b[22m\u001b[0m\u001b[1mP\u001b[22m \u001b[0m\u001b[1mn\u001b[22mu\u001b[0m\u001b[1ml\u001b[22mls\u001b[0m\u001b[1mp\u001b[22mace i\u001b[0m\u001b[1mn\u001b[22mc\u001b[0m\u001b[1ml\u001b[22mude_de\u001b[0m\u001b[1mp\u001b[22mendency Si\u001b[0m\u001b[1mn\u001b[22mgu\u001b[0m\u001b[1ml\u001b[22marExce\u001b[0m\u001b[1mp\u001b[22mtion I\u001b[0m\u001b[1mn\u001b[22mva\u001b[0m\u001b[1ml\u001b[22midStateExce\u001b[0m\u001b[1mp\u001b[22mtion\n",
      "\n"
     ]
    },
    {
     "data": {
      "text/latex": [
       "\\begin{verbatim}\n",
       "NLP{n,m,L,Q}\n",
       "\\end{verbatim}\n",
       "Represents a (N)on(L)inear (P)rogram of a trajectory optimization problem, with a dynamics model of type \\texttt{L}, a quadratic cost function, horizon \\texttt{T},  and initial and final state \\texttt{x0}, \\texttt{xf}.\n",
       "\n",
       "\\section{Constructor}\n",
       "\\begin{verbatim}\n",
       "NLP(model, obj, tf, T, x0, xf, [integration])\n",
       "\\end{verbatim}\n",
       "\\section{Basic Methods}\n",
       "\\begin{verbatim}\n",
       "Base.size(nlp)    # returns (n,m,T)\n",
       "num_ineq(nlp)     # number of inequality constraints\n",
       "num_eq(nlp)       # number of equality constraints\n",
       "num_primals(nlp)  # number of primal variables\n",
       "num_duals(nlp)    # total number of dual variables\n",
       "packZ(nlp, X, U)  # Stacks state `X` and controls `U` into one vector `Z`\n",
       "\\end{verbatim}\n",
       "\\section{Evaluating the NLP}\n",
       "The NLP supports the following API for evaluating various pieces of the NLP:\n",
       "\n",
       "\\begin{verbatim}\n",
       "eval_f(nlp, Z)         # evaluate the objective\n",
       "grad_f!(nlp, grad, Z)  # gradient of the objective\n",
       "hess_f!(nlp, hess, Z)  # Hessian of the objective\n",
       "eval_c!(nlp, c, Z)     # evaluate the constraints\n",
       "jac_c!(nlp, c, Z)      # constraint Jacobian\n",
       "\\end{verbatim}\n"
      ],
      "text/markdown": [
       "```\n",
       "NLP{n,m,L,Q}\n",
       "```\n",
       "\n",
       "Represents a (N)on(L)inear (P)rogram of a trajectory optimization problem, with a dynamics model of type `L`, a quadratic cost function, horizon `T`,  and initial and final state `x0`, `xf`.\n",
       "\n",
       "# Constructor\n",
       "\n",
       "```\n",
       "NLP(model, obj, tf, T, x0, xf, [integration])\n",
       "```\n",
       "\n",
       "# Basic Methods\n",
       "\n",
       "```\n",
       "Base.size(nlp)    # returns (n,m,T)\n",
       "num_ineq(nlp)     # number of inequality constraints\n",
       "num_eq(nlp)       # number of equality constraints\n",
       "num_primals(nlp)  # number of primal variables\n",
       "num_duals(nlp)    # total number of dual variables\n",
       "packZ(nlp, X, U)  # Stacks state `X` and controls `U` into one vector `Z`\n",
       "```\n",
       "\n",
       "# Evaluating the NLP\n",
       "\n",
       "The NLP supports the following API for evaluating various pieces of the NLP:\n",
       "\n",
       "```\n",
       "eval_f(nlp, Z)         # evaluate the objective\n",
       "grad_f!(nlp, grad, Z)  # gradient of the objective\n",
       "hess_f!(nlp, hess, Z)  # Hessian of the objective\n",
       "eval_c!(nlp, c, Z)     # evaluate the constraints\n",
       "jac_c!(nlp, c, Z)      # constraint Jacobian\n",
       "```\n"
      ],
      "text/plain": [
       "\u001b[36m  NLP{n,m,L,Q}\u001b[39m\n",
       "\n",
       "  Represents a (N)on(L)inear (P)rogram of a trajectory optimization problem,\n",
       "  with a dynamics model of type \u001b[36mL\u001b[39m, a quadratic cost function, horizon \u001b[36mT\u001b[39m, and\n",
       "  initial and final state \u001b[36mx0\u001b[39m, \u001b[36mxf\u001b[39m.\n",
       "\n",
       "\u001b[1m  Constructor\u001b[22m\n",
       "\u001b[1m  ≡≡≡≡≡≡≡≡≡≡≡≡≡\u001b[22m\n",
       "\n",
       "\u001b[36m  NLP(model, obj, tf, T, x0, xf, [integration])\u001b[39m\n",
       "\n",
       "\u001b[1m  Basic Methods\u001b[22m\n",
       "\u001b[1m  ≡≡≡≡≡≡≡≡≡≡≡≡≡≡≡\u001b[22m\n",
       "\n",
       "\u001b[36m  Base.size(nlp)    # returns (n,m,T)\u001b[39m\n",
       "\u001b[36m  num_ineq(nlp)     # number of inequality constraints\u001b[39m\n",
       "\u001b[36m  num_eq(nlp)       # number of equality constraints\u001b[39m\n",
       "\u001b[36m  num_primals(nlp)  # number of primal variables\u001b[39m\n",
       "\u001b[36m  num_duals(nlp)    # total number of dual variables\u001b[39m\n",
       "\u001b[36m  packZ(nlp, X, U)  # Stacks state `X` and controls `U` into one vector `Z`\u001b[39m\n",
       "\n",
       "\u001b[1m  Evaluating the NLP\u001b[22m\n",
       "\u001b[1m  ≡≡≡≡≡≡≡≡≡≡≡≡≡≡≡≡≡≡≡≡\u001b[22m\n",
       "\n",
       "  The NLP supports the following API for evaluating various pieces of the NLP:\n",
       "\n",
       "\u001b[36m  eval_f(nlp, Z)         # evaluate the objective\u001b[39m\n",
       "\u001b[36m  grad_f!(nlp, grad, Z)  # gradient of the objective\u001b[39m\n",
       "\u001b[36m  hess_f!(nlp, hess, Z)  # Hessian of the objective\u001b[39m\n",
       "\u001b[36m  eval_c!(nlp, c, Z)     # evaluate the constraints\u001b[39m\n",
       "\u001b[36m  jac_c!(nlp, c, Z)      # constraint Jacobian\u001b[39m"
      ]
     },
     "execution_count": 69,
     "metadata": {},
     "output_type": "execute_result"
    }
   ],
   "source": [
    "?NLP"
   ]
  },
  {
   "cell_type": "markdown",
   "metadata": {},
   "source": [
    "# The Problem"
   ]
  },
  {
   "cell_type": "code",
   "execution_count": 59,
   "metadata": {},
   "outputs": [],
   "source": [
    "# Build the problem\n",
    "model = RobotZoo.Cartpole()\n",
    "n,m = size(model)\n",
    "T = 101\n",
    "tf = 2.0\n",
    "dt = tf / (T-1)\n",
    "\n",
    "# Initial & final condition\n",
    "x0 = @SVector zeros(n)\n",
    "xf = SA[0,pi,0,0];\n",
    "\n",
    "# Cost function\n",
    "Q = Diagonal(fill(1e-2,n))\n",
    "R = Diagonal(fill(1e-1,m))\n",
    "Qf = Diagonal(fill(1e1,n))\n",
    "costfun = LQRCost(Q,R,xf)\n",
    "costterm = LQRCost(Qf,R,xf)\n",
    "obj = push!(fill(costfun,T-1), costterm)\n",
    "\n",
    "# Initial Guess (linear interpolation)\n",
    "X = [x0 + (xf - x0)*t for t in range(0,1, length=T)]\n",
    "U = [@SVector zeros(m) for k = 1:T-1];"
   ]
  },
  {
   "cell_type": "markdown",
   "metadata": {},
   "source": [
    "# Solve w/ SQP"
   ]
  },
  {
   "cell_type": "code",
   "execution_count": 33,
   "metadata": {},
   "outputs": [],
   "source": [
    "# NLP\n",
    "nlp = NLP(model, obj, tf, T, x0, xf)\n",
    "Z = packZ(nlp, X, U)\n",
    "λ = zeros(num_duals(nlp));"
   ]
  },
  {
   "cell_type": "code",
   "execution_count": 34,
   "metadata": {},
   "outputs": [
    {
     "name": "stdout",
     "output_type": "stream",
     "text": [
      "Iteration 1: cost = 1.67, res_p = 1.83e-01, res_d = 2.93e+00,   α = 1.00, ΔJ: -6.96e+02, Δϕ: 9.31e+02, reg: 1.00e-06, pen: 523, soc: 0\n",
      "Iteration 2: cost = 697.64, res_p = 3.68e+02, res_d = 3.33e+00,   α = 1.00, ΔJ: 3.26e+02, Δϕ: 1.36e+04, reg: 1.00e-06, pen: 523, soc: 0\n",
      "Iteration 3: cost = 371.15, res_p = 1.38e+02, res_d = 3.76e-01,   α = 0.50, ΔJ: 1.20e+02, Δϕ: 2.47e+02, reg: 1.00e-06, pen: 523, soc: 0\n",
      "Iteration 4: cost = 251.18, res_p = 8.06e+01, res_d = 3.51e-01,   α = 0.13, ΔJ: 4.16e+01, Δϕ: 8.96e+01, reg: 1.00e-06, pen: 523, soc: 0\n",
      "Iteration 5: cost = 209.62, res_p = 6.95e+01, res_d = 3.44e-01,   α = 0.50, ΔJ: 5.17e+01, Δϕ: 3.39e+02, reg: 1.00e-06, pen: 523, soc: 0\n",
      "Iteration 6: cost = 157.92, res_p = 2.98e+01, res_d = 2.98e-01,   α = 1.00, ΔJ: -1.29e+01, Δϕ: 6.27e+02, reg: 1.00e-06, pen: 523, soc: 1\n",
      "Iteration 7: cost = 170.87, res_p = 3.44e+01, res_d = 7.94e-02,   α = 1.00, ΔJ: 9.61e+00, Δϕ: 1.30e+02, reg: 1.00e-06, pen: 523, soc: 1\n",
      "Iteration 8: cost = 161.26, res_p = 1.80e+01, res_d = 3.56e-02,   α = 1.00, ΔJ: 2.34e+00, Δϕ: 9.47e+01, reg: 1.00e-06, pen: 523, soc: 0\n",
      "Iteration 9: cost = 158.92, res_p = 6.09e-01, res_d = 1.10e-02,   α = 1.00, ΔJ: 7.93e-01, Δϕ: 3.05e+01, reg: 1.00e-06, pen: 523, soc: 0\n",
      "Iteration 10: cost = 158.13, res_p = 4.21e-04, res_d = 8.15e-06,   α = 1.00, ΔJ: 1.05e-03, Δϕ: 3.03e-02, reg: 1.00e-06, pen: 523, soc: 0\n",
      "Iteration 11: cost = 158.13, res_p = 4.39e-08, res_d = 1.54e-08,\n"
     ]
    }
   ],
   "source": [
    "# Solve w/ SQP\n",
    "Zstar, λstar = solve_sqp!(nlp, Z, λ, verbose=1, iters=200, gn=false, eps_primal=1e-4);"
   ]
  },
  {
   "cell_type": "markdown",
   "metadata": {},
   "source": [
    "# Visualization"
   ]
  },
  {
   "cell_type": "code",
   "execution_count": 18,
   "metadata": {},
   "outputs": [
    {
     "data": {
      "text/plain": [
       "visualize! (generic function with 2 methods)"
      ]
     },
     "execution_count": 18,
     "metadata": {},
     "output_type": "execute_result"
    }
   ],
   "source": [
    "include(\"cartpole.jl\")"
   ]
  },
  {
   "cell_type": "code",
   "execution_count": 19,
   "metadata": {},
   "outputs": [
    {
     "name": "stderr",
     "output_type": "stream",
     "text": [
      "┌ Info: MeshCat server started. You can open the visualizer by visiting the following URL in your browser:\n",
      "│ http://127.0.0.1:8702\n",
      "└ @ MeshCat /home/brian/.julia/packages/MeshCat/GlCMx/src/visualizer.jl:73\n"
     ]
    },
    {
     "data": {
      "text/html": [
       "    <div style=\"height: 500px; width: 100%; overflow-x: auto; overflow-y: hidden; resize: both\">\n",
       "    <iframe src=\"http://127.0.0.1:8702\" style=\"width: 100%; height: 100%; border: none\"></iframe>\n",
       "    </div>\n"
      ],
      "text/plain": [
       "MeshCat.DisplayedVisualizer(MeshCat.CoreVisualizer(MeshCat.SceneTrees.SceneNode(nothing, nothing, Dict{String,Array{UInt8,1}}(), nothing, Dict{String,MeshCat.SceneTrees.SceneNode}(\"meshcat\" => MeshCat.SceneTrees.SceneNode(nothing, nothing, Dict{String,Array{UInt8,1}}(), nothing, Dict{String,MeshCat.SceneTrees.SceneNode}(\"robot\" => MeshCat.SceneTrees.SceneNode(nothing, nothing, Dict{String,Array{UInt8,1}}(), nothing, Dict{String,MeshCat.SceneTrees.SceneNode}(\"rod\" => MeshCat.SceneTrees.SceneNode(UInt8[0x83, 0xa6, 0x6f, 0x62, 0x6a, 0x65, 0x63, 0x74, 0x84, 0xaa  …  0x2f, 0x72, 0x6f, 0x62, 0x6f, 0x74, 0x2f, 0x72, 0x6f, 0x64], nothing, Dict{String,Array{UInt8,1}}(), nothing, Dict{String,MeshCat.SceneTrees.SceneNode}()),\"cart\" => MeshCat.SceneTrees.SceneNode(nothing, nothing, Dict{String,Array{UInt8,1}}(), nothing, Dict{String,MeshCat.SceneTrees.SceneNode}(\"pole\" => MeshCat.SceneTrees.SceneNode(nothing, UInt8[0x83, 0xa6, 0x6d, 0x61, 0x74, 0x72, 0x69, 0x78, 0xc7, 0x40  …  0x2f, 0x63, 0x61, 0x72, 0x74, 0x2f, 0x70, 0x6f, 0x6c, 0x65], Dict{String,Array{UInt8,1}}(), nothing, Dict{String,MeshCat.SceneTrees.SceneNode}(\"geom\" => MeshCat.SceneTrees.SceneNode(nothing, nothing, Dict{String,Array{UInt8,1}}(), nothing, Dict{String,MeshCat.SceneTrees.SceneNode}(\"cyl\" => MeshCat.SceneTrees.SceneNode(UInt8[0x83, 0xa6, 0x6f, 0x62, 0x6a, 0x65, 0x63, 0x74, 0x84, 0xaa  …  0x65, 0x2f, 0x67, 0x65, 0x6f, 0x6d, 0x2f, 0x63, 0x79, 0x6c], nothing, Dict{String,Array{UInt8,1}}(), nothing, Dict{String,MeshCat.SceneTrees.SceneNode}()),\"mass\" => MeshCat.SceneTrees.SceneNode(UInt8[0x83, 0xa6, 0x6f, 0x62, 0x6a, 0x65, 0x63, 0x74, 0x84, 0xaa  …  0x2f, 0x67, 0x65, 0x6f, 0x6d, 0x2f, 0x6d, 0x61, 0x73, 0x73], nothing, Dict{String,Array{UInt8,1}}(), nothing, Dict{String,MeshCat.SceneTrees.SceneNode}()))))),\"box\" => MeshCat.SceneTrees.SceneNode(UInt8[0x83, 0xa6, 0x6f, 0x62, 0x6a, 0x65, 0x63, 0x74, 0x84, 0xaa  …  0x74, 0x2f, 0x63, 0x61, 0x72, 0x74, 0x2f, 0x62, 0x6f, 0x78], nothing, Dict{String,Array{UInt8,1}}(), nothing, Dict{String,MeshCat.SceneTrees.SceneNode}()),\"hinge\" => MeshCat.SceneTrees.SceneNode(UInt8[0x83, 0xa6, 0x6f, 0x62, 0x6a, 0x65, 0x63, 0x74, 0x84, 0xaa  …  0x63, 0x61, 0x72, 0x74, 0x2f, 0x68, 0x69, 0x6e, 0x67, 0x65], nothing, Dict{String,Array{UInt8,1}}(), nothing, Dict{String,MeshCat.SceneTrees.SceneNode}()))))))))), Set{Any}(), ip\"127.0.0.1\", 8702))"
      ]
     },
     "execution_count": 19,
     "metadata": {},
     "output_type": "execute_result"
    }
   ],
   "source": [
    "vis = Visualizer()\n",
    "set_mesh!(vis, model)\n",
    "render(vis)"
   ]
  },
  {
   "cell_type": "code",
   "execution_count": 35,
   "metadata": {},
   "outputs": [],
   "source": [
    "Xstar = [Z[xi] for xi in nlp.xinds]\n",
    "visualize!(vis, model, tf, Xstar)"
   ]
  }
 ],
 "metadata": {
  "kernelspec": {
   "display_name": "Julia 1.5.3",
   "language": "julia",
   "name": "julia-1.5"
  },
  "language_info": {
   "file_extension": ".jl",
   "mimetype": "application/julia",
   "name": "julia",
   "version": "1.5.3"
  }
 },
 "nbformat": 4,
 "nbformat_minor": 4
}
